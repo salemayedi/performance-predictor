{
 "cells": [
  {
   "cell_type": "markdown",
   "metadata": {},
   "source": [
    "# Task A: Creating a Performance Predictor\n",
    "\n",
    "In this task, you will use training data from 2000 configurations on a single OpenML dataset to train a performance predictor. The data will be splitted into train, test and validation set and we will only use the first 10 epochs of the learning curves for predicitons. You are provided with the full benchmark logs for Fashion-MNIST, that is learning curves, config parameters and gradient statistics, and you can use them freely.\n",
    "\n",
    "For questions, you can contact zimmerl@informatik.uni-freiburg.\n",
    "\n",
    "__Note: Please use the dataloading and splits you are provided with in this notebook.__"
   ]
  },
  {
   "cell_type": "markdown",
   "metadata": {},
   "source": [
    "## Specifications:\n",
    "\n",
    "* Data: fashion_mnist.json\n",
    "* Number of datasets: 1\n",
    "* Number of configurations: 2000\n",
    "* Number of epochs seed during prediction: 10\n",
    "* Available data: Learning curves, architecture parameters and hyperparameters, gradient statistics \n",
    "* Target: Final validation accuracy\n",
    "* Evaluation metric: MSE"
   ]
  },
  {
   "cell_type": "markdown",
   "metadata": {},
   "source": [
    "## Importing and splitting data\n",
    "\n",
    "__Note__: There are 51 steps logged, 50 epochs plus the 0th epoch, prior to any weight updates."
   ]
  },
  {
   "cell_type": "code",
   "execution_count": 1,
   "metadata": {},
   "outputs": [],
   "source": [
    "%%capture\n",
    "%cd ..\n",
    "import numpy as np\n",
    "from sklearn.model_selection import train_test_split\n",
    "from sklearn.metrics import mean_squared_error\n",
    "import matplotlib.pyplot as plt\n",
    "\n",
    "from api import Benchmark"
   ]
  },
  {
   "cell_type": "code",
   "execution_count": 74,
   "metadata": {},
   "outputs": [
    {
     "name": "stdout",
     "output_type": "stream",
     "text": [
      "==> Loading data...\n",
      "==> No cached data found or cache set to False.\n",
      "==> Reading json data...\n",
      "==> Done.\n"
     ]
    }
   ],
   "source": [
    "bench_dir = \"cached/fashion_mnist.json\"\n",
    "bench = Benchmark(bench_dir, cache=False)"
   ]
  },
  {
   "cell_type": "code",
   "execution_count": 75,
   "metadata": {},
   "outputs": [
    {
     "name": "stdout",
     "output_type": "stream",
     "text": [
      "Train: 1000\n",
      "Validation: 500\n",
      "Test: 500\n"
     ]
    }
   ],
   "source": [
    "# Read data\n",
    "def cut_data(data, cut_position):\n",
    "    targets = []\n",
    "    for dp in data:\n",
    "        targets.append(dp[\"Train/val_accuracy\"][50])\n",
    "        for tag in dp:\n",
    "            if tag.startswith(\"Train/\"):\n",
    "                dp[tag] = dp[tag][0:cut_position]\n",
    "    return data, targets\n",
    "\n",
    "def read_data():\n",
    "    dataset_name = 'Fashion-MNIST'\n",
    "    n_configs = bench.get_number_of_configs(dataset_name)\n",
    "    # Query API\n",
    "    data = []\n",
    "    for config_id in range(n_configs):\n",
    "        data_point = dict()\n",
    "        data_point[\"config\"] = bench.query(dataset_name=dataset_name, tag=\"config\", config_id=config_id)\n",
    "        for tag in bench.get_queriable_tags(dataset_name=dataset_name, config_id=config_id):\n",
    "            if tag.startswith(\"Train/\"):\n",
    "                data_point[tag] = bench.query(dataset_name=dataset_name, tag=tag, config_id=config_id)    \n",
    "        data.append(data_point)\n",
    "        \n",
    "    # Split: 50% train, 25% validation, 25% test (the data is already shuffled)\n",
    "    indices = np.arange(n_configs)\n",
    "    ind_train = indices[0:int(np.floor(0.5*n_configs))]\n",
    "    ind_val = indices[int(np.floor(0.5*n_configs)):int(np.floor(0.75*n_configs))]\n",
    "    ind_test = indices[int(np.floor(0.75*n_configs)):]\n",
    "\n",
    "    array_data = np.array(data)\n",
    "    train_data = array_data[ind_train]\n",
    "    val_data = array_data[ind_val]\n",
    "    test_data = array_data[ind_test]\n",
    "    \n",
    "    # Cut curves for validation and test\n",
    "    cut_position = 11\n",
    "    val_data, val_targets = cut_data(val_data, cut_position)\n",
    "    test_data, test_targets = cut_data(test_data, cut_position)\n",
    "    train_data, train_targets = cut_data(train_data, 51)   # Cut last value as it is repeated\n",
    "    \n",
    "    return train_data, val_data, test_data, train_targets, val_targets, test_targets\n",
    "    \n",
    "train_data, val_data, test_data, train_targets, val_targets, test_targets = read_data()\n",
    "\n",
    "print(\"Train:\", len(train_data))\n",
    "print(\"Validation:\", len(val_data))\n",
    "print(\"Test:\", len(test_data))"
   ]
  },
  {
   "cell_type": "markdown",
   "metadata": {},
   "source": [
    "#### Data Analysis and Cleaning"
   ]
  },
  {
   "cell_type": "code",
   "execution_count": 76,
   "metadata": {},
   "outputs": [],
   "source": [
    "def removeUninformativeFeatures(train_data): \n",
    "    store_config = {}\n",
    "    informative_config = {}\n",
    "    uninformative_config = {}\n",
    "\n",
    "    for indx in range(len(train_data)):\n",
    "        for value, key in train_data[indx][\"config\"].items():\n",
    "            store_config[value] = []\n",
    "    print(\"Seeking for uninformative data...\")\n",
    "    print()\n",
    "\n",
    "    for value in store_config:\n",
    "        for i in range(len(train_data)):\n",
    "            for value_inner, key in train_data[i][\"config\"].items():\n",
    "                store_config[value_inner].append(key)\n",
    "\n",
    "        nTemp = store_config[value][0]\n",
    "        bEqual = True\n",
    "        for item in store_config[value]:\n",
    "            if nTemp != item:\n",
    "                bEqual = False\n",
    "                break;\n",
    "        if bEqual:\n",
    "            print(\"All elements in list \"+value+\" are EQUAL\")\n",
    "            uninformative_config[value] = store_config[value]\n",
    "        else:\n",
    "            print(\"All elements in list \"+value+\" are different\")\n",
    "            informative_config[value] = store_config[value]\n",
    "\n",
    "    print()\n",
    "    print(\"Only \"+str(len(informative_config))+\"/\"+str(len(store_config))+\" parameters are informative.\")\n",
    "    print(\"Removing uninformative parameters from dataset...\")        \n",
    "    train_data_clean = train_data.copy()\n",
    "    print(len(train_data))\n",
    "    for i in range(len(train_data)):\n",
    "        for value, key in uninformative_config.items():\n",
    "            train_data_clean[i][\"config\"].pop(value)\n",
    "            \n",
    "    return train_data_clean"
   ]
  },
  {
   "cell_type": "code",
   "execution_count": 77,
   "metadata": {},
   "outputs": [
    {
     "name": "stdout",
     "output_type": "stream",
     "text": [
      "Seeking for uninformative data...\n",
      "\n",
      "All elements in list batch_size are different\n",
      "All elements in list imputation_strategy are EQUAL\n",
      "All elements in list learning_rate_scheduler are EQUAL\n",
      "All elements in list loss are EQUAL\n",
      "All elements in list network are EQUAL\n",
      "All elements in list max_dropout are different\n",
      "All elements in list normalization_strategy are EQUAL\n",
      "All elements in list optimizer are EQUAL\n",
      "All elements in list cosine_annealing_T_max are EQUAL\n",
      "All elements in list cosine_annealing_eta_min are EQUAL\n",
      "All elements in list activation are EQUAL\n",
      "All elements in list max_units are different\n",
      "All elements in list mlp_shape are EQUAL\n",
      "All elements in list num_layers are different\n",
      "All elements in list learning_rate are different\n",
      "All elements in list momentum are different\n",
      "All elements in list weight_decay are different\n",
      "\n",
      "Only 7/17 parameters are informative.\n",
      "Removing uninformative parameters from dataset...\n",
      "1000\n",
      "Seeking for uninformative data...\n",
      "\n",
      "All elements in list batch_size are different\n",
      "All elements in list imputation_strategy are EQUAL\n",
      "All elements in list learning_rate_scheduler are EQUAL\n",
      "All elements in list loss are EQUAL\n",
      "All elements in list network are EQUAL\n",
      "All elements in list max_dropout are different\n",
      "All elements in list normalization_strategy are EQUAL\n",
      "All elements in list optimizer are EQUAL\n",
      "All elements in list cosine_annealing_T_max are EQUAL\n",
      "All elements in list cosine_annealing_eta_min are EQUAL\n",
      "All elements in list activation are EQUAL\n",
      "All elements in list max_units are different\n",
      "All elements in list mlp_shape are EQUAL\n",
      "All elements in list num_layers are different\n",
      "All elements in list learning_rate are different\n",
      "All elements in list momentum are different\n",
      "All elements in list weight_decay are different\n",
      "\n",
      "Only 7/17 parameters are informative.\n",
      "Removing uninformative parameters from dataset...\n",
      "500\n"
     ]
    }
   ],
   "source": [
    "train_data_clean = removeUninformativeFeatures(train_data)\n",
    "val_data_clean = removeUninformativeFeatures(val_data)"
   ]
  },
  {
   "cell_type": "code",
   "execution_count": 148,
   "metadata": {},
   "outputs": [],
   "source": [
    "def DictToTensor (X, name_data):\n",
    "    dim_config = len(X[0][name_data])\n",
    "    data_torch = torch.zeros(len(X), dim_config)\n",
    "    for i in range(len(X)):\n",
    "        j = 0\n",
    "        for _, key in X[i][name_data].items():\n",
    "            data_torch[i,j] = key\n",
    "            j+=1\n",
    "    return data_torch"
   ]
  },
  {
   "cell_type": "code",
   "execution_count": 149,
   "metadata": {},
   "outputs": [],
   "source": [
    "train_data_tensor = DictToTensor(train_data_clean, \"config\")\n",
    "val_data_tensor = DictToTensor(val_data_clean, \"config\")\n",
    "train_targets = torch.FloatTensor(train_targets).reshape(-1,1)\n",
    "val_targets = torch.FloatTensor(val_targets).reshape(-1,1)"
   ]
  },
  {
   "cell_type": "markdown",
   "metadata": {},
   "source": [
    "##### First Model\n"
   ]
  },
  {
   "cell_type": "code",
   "execution_count": 150,
   "metadata": {},
   "outputs": [],
   "source": [
    "import torch.nn as nn\n",
    "\n",
    "class FirstNet(nn.Module):\n",
    "    def __init__(self, input_dim, hidden_dim=256):\n",
    "        super(FirstNet, self).__init__()\n",
    "        self.fc1 = nn.Linear(input_dim, hidden_dim//2)\n",
    "        self.fc2 = nn.Linear(hidden_dim//2, hidden_dim)\n",
    "        self.fc3 = nn.Linear(hidden_dim, hidden_dim)\n",
    "        self.fc4 = nn.Linear(hidden_dim, hidden_dim)\n",
    "        self.fc5 = nn.Linear(hidden_dim, 1) \n",
    "\n",
    "        self.relu = nn.ReLU()\n",
    "    \n",
    "    def forward(self, x):\n",
    "        x = self.fc1(x)\n",
    "        x = self.relu(x)\n",
    "        x = self.fc2(x)\n",
    "        x = self.relu(x)\n",
    "        x = self.fc3(x)\n",
    "        x = self.relu(x)\n",
    "        x = self.fc4(x)\n",
    "        x = self.relu(x)\n",
    "        x = self.fc5(x)\n",
    "        \n",
    "        return x\n"
   ]
  },
  {
   "cell_type": "markdown",
   "metadata": {},
   "source": [
    "The data contains the configuration of the trained model and learning curves as well as global and layer-wise gradient statistics.\n",
    "\n",
    "__Note__: Not all parameters vary across different configurations. The varying parameters are batch_size, max_dropout, max_units, num_layers, learning_rate, momentum, weight_decay"
   ]
  },
  {
   "cell_type": "code",
   "execution_count": 147,
   "metadata": {},
   "outputs": [
    {
     "name": "stdout",
     "output_type": "stream",
     "text": [
      "0/100 loss :  7157.49169921875\n",
      "10/100 loss :  nan\n",
      "20/100 loss :  nan\n",
      "30/100 loss :  nan\n",
      "40/100 loss :  nan\n",
      "50/100 loss :  nan\n",
      "60/100 loss :  nan\n",
      "70/100 loss :  nan\n",
      "80/100 loss :  nan\n",
      "90/100 loss :  nan\n",
      "Finished Training\n"
     ]
    },
    {
     "ename": "ValueError",
     "evalue": "Input contains NaN, infinity or a value too large for dtype('float32').",
     "output_type": "error",
     "traceback": [
      "\u001b[1;31m---------------------------------------------------------------------------\u001b[0m",
      "\u001b[1;31mValueError\u001b[0m                                Traceback (most recent call last)",
      "\u001b[1;32m<ipython-input-147-47f58fc0c940>\u001b[0m in \u001b[0;36m<module>\u001b[1;34m\u001b[0m\n\u001b[0;32m     30\u001b[0m \u001b[1;32mwith\u001b[0m \u001b[0mtorch\u001b[0m\u001b[1;33m.\u001b[0m\u001b[0mno_grad\u001b[0m\u001b[1;33m(\u001b[0m\u001b[1;33m)\u001b[0m\u001b[1;33m:\u001b[0m\u001b[1;33m\u001b[0m\u001b[1;33m\u001b[0m\u001b[0m\n\u001b[0;32m     31\u001b[0m     \u001b[0mpredicted\u001b[0m \u001b[1;33m=\u001b[0m \u001b[0mmodel\u001b[0m\u001b[1;33m(\u001b[0m\u001b[0mval_data_tensor\u001b[0m\u001b[1;33m)\u001b[0m\u001b[1;33m\u001b[0m\u001b[1;33m\u001b[0m\u001b[0m\n\u001b[1;32m---> 32\u001b[1;33m     \u001b[0mscore\u001b[0m \u001b[1;33m=\u001b[0m \u001b[0mmean_squared_error\u001b[0m\u001b[1;33m(\u001b[0m\u001b[0mpredicted\u001b[0m\u001b[1;33m,\u001b[0m \u001b[0mval_targets\u001b[0m\u001b[1;33m)\u001b[0m\u001b[1;33m\u001b[0m\u001b[1;33m\u001b[0m\u001b[0m\n\u001b[0m\u001b[0;32m     33\u001b[0m \u001b[1;33m\u001b[0m\u001b[0m\n\u001b[0;32m     34\u001b[0m \u001b[0mprint\u001b[0m\u001b[1;33m(\u001b[0m\u001b[1;34m'MSE of the network on the 1000 data config: '\u001b[0m\u001b[1;33m,\u001b[0m \u001b[0mscore\u001b[0m\u001b[1;33m)\u001b[0m\u001b[1;33m\u001b[0m\u001b[1;33m\u001b[0m\u001b[0m\n",
      "\u001b[1;32m~\\Anaconda3\\lib\\site-packages\\sklearn\\metrics\\regression.py\u001b[0m in \u001b[0;36mmean_squared_error\u001b[1;34m(y_true, y_pred, sample_weight, multioutput)\u001b[0m\n\u001b[0;32m    239\u001b[0m     \"\"\"\n\u001b[0;32m    240\u001b[0m     y_type, y_true, y_pred, multioutput = _check_reg_targets(\n\u001b[1;32m--> 241\u001b[1;33m         y_true, y_pred, multioutput)\n\u001b[0m\u001b[0;32m    242\u001b[0m     \u001b[0mcheck_consistent_length\u001b[0m\u001b[1;33m(\u001b[0m\u001b[0my_true\u001b[0m\u001b[1;33m,\u001b[0m \u001b[0my_pred\u001b[0m\u001b[1;33m,\u001b[0m \u001b[0msample_weight\u001b[0m\u001b[1;33m)\u001b[0m\u001b[1;33m\u001b[0m\u001b[1;33m\u001b[0m\u001b[0m\n\u001b[0;32m    243\u001b[0m     output_errors = np.average((y_true - y_pred) ** 2, axis=0,\n",
      "\u001b[1;32m~\\Anaconda3\\lib\\site-packages\\sklearn\\metrics\\regression.py\u001b[0m in \u001b[0;36m_check_reg_targets\u001b[1;34m(y_true, y_pred, multioutput)\u001b[0m\n\u001b[0;32m     76\u001b[0m     \"\"\"\n\u001b[0;32m     77\u001b[0m     \u001b[0mcheck_consistent_length\u001b[0m\u001b[1;33m(\u001b[0m\u001b[0my_true\u001b[0m\u001b[1;33m,\u001b[0m \u001b[0my_pred\u001b[0m\u001b[1;33m)\u001b[0m\u001b[1;33m\u001b[0m\u001b[1;33m\u001b[0m\u001b[0m\n\u001b[1;32m---> 78\u001b[1;33m     \u001b[0my_true\u001b[0m \u001b[1;33m=\u001b[0m \u001b[0mcheck_array\u001b[0m\u001b[1;33m(\u001b[0m\u001b[0my_true\u001b[0m\u001b[1;33m,\u001b[0m \u001b[0mensure_2d\u001b[0m\u001b[1;33m=\u001b[0m\u001b[1;32mFalse\u001b[0m\u001b[1;33m)\u001b[0m\u001b[1;33m\u001b[0m\u001b[1;33m\u001b[0m\u001b[0m\n\u001b[0m\u001b[0;32m     79\u001b[0m     \u001b[0my_pred\u001b[0m \u001b[1;33m=\u001b[0m \u001b[0mcheck_array\u001b[0m\u001b[1;33m(\u001b[0m\u001b[0my_pred\u001b[0m\u001b[1;33m,\u001b[0m \u001b[0mensure_2d\u001b[0m\u001b[1;33m=\u001b[0m\u001b[1;32mFalse\u001b[0m\u001b[1;33m)\u001b[0m\u001b[1;33m\u001b[0m\u001b[1;33m\u001b[0m\u001b[0m\n\u001b[0;32m     80\u001b[0m \u001b[1;33m\u001b[0m\u001b[0m\n",
      "\u001b[1;32m~\\Anaconda3\\lib\\site-packages\\sklearn\\utils\\validation.py\u001b[0m in \u001b[0;36mcheck_array\u001b[1;34m(array, accept_sparse, accept_large_sparse, dtype, order, copy, force_all_finite, ensure_2d, allow_nd, ensure_min_samples, ensure_min_features, warn_on_dtype, estimator)\u001b[0m\n\u001b[0;32m    540\u001b[0m         \u001b[1;32mif\u001b[0m \u001b[0mforce_all_finite\u001b[0m\u001b[1;33m:\u001b[0m\u001b[1;33m\u001b[0m\u001b[1;33m\u001b[0m\u001b[0m\n\u001b[0;32m    541\u001b[0m             _assert_all_finite(array,\n\u001b[1;32m--> 542\u001b[1;33m                                allow_nan=force_all_finite == 'allow-nan')\n\u001b[0m\u001b[0;32m    543\u001b[0m \u001b[1;33m\u001b[0m\u001b[0m\n\u001b[0;32m    544\u001b[0m     \u001b[1;32mif\u001b[0m \u001b[0mensure_min_samples\u001b[0m \u001b[1;33m>\u001b[0m \u001b[1;36m0\u001b[0m\u001b[1;33m:\u001b[0m\u001b[1;33m\u001b[0m\u001b[1;33m\u001b[0m\u001b[0m\n",
      "\u001b[1;32m~\\Anaconda3\\lib\\site-packages\\sklearn\\utils\\validation.py\u001b[0m in \u001b[0;36m_assert_all_finite\u001b[1;34m(X, allow_nan)\u001b[0m\n\u001b[0;32m     54\u001b[0m                 not allow_nan and not np.isfinite(X).all()):\n\u001b[0;32m     55\u001b[0m             \u001b[0mtype_err\u001b[0m \u001b[1;33m=\u001b[0m \u001b[1;34m'infinity'\u001b[0m \u001b[1;32mif\u001b[0m \u001b[0mallow_nan\u001b[0m \u001b[1;32melse\u001b[0m \u001b[1;34m'NaN, infinity'\u001b[0m\u001b[1;33m\u001b[0m\u001b[1;33m\u001b[0m\u001b[0m\n\u001b[1;32m---> 56\u001b[1;33m             \u001b[1;32mraise\u001b[0m \u001b[0mValueError\u001b[0m\u001b[1;33m(\u001b[0m\u001b[0mmsg_err\u001b[0m\u001b[1;33m.\u001b[0m\u001b[0mformat\u001b[0m\u001b[1;33m(\u001b[0m\u001b[0mtype_err\u001b[0m\u001b[1;33m,\u001b[0m \u001b[0mX\u001b[0m\u001b[1;33m.\u001b[0m\u001b[0mdtype\u001b[0m\u001b[1;33m)\u001b[0m\u001b[1;33m)\u001b[0m\u001b[1;33m\u001b[0m\u001b[1;33m\u001b[0m\u001b[0m\n\u001b[0m\u001b[0;32m     57\u001b[0m     \u001b[1;31m# for object dtype data, we only check for NaNs (GH-13254)\u001b[0m\u001b[1;33m\u001b[0m\u001b[1;33m\u001b[0m\u001b[1;33m\u001b[0m\u001b[0m\n\u001b[0;32m     58\u001b[0m     \u001b[1;32melif\u001b[0m \u001b[0mX\u001b[0m\u001b[1;33m.\u001b[0m\u001b[0mdtype\u001b[0m \u001b[1;33m==\u001b[0m \u001b[0mnp\u001b[0m\u001b[1;33m.\u001b[0m\u001b[0mdtype\u001b[0m\u001b[1;33m(\u001b[0m\u001b[1;34m'object'\u001b[0m\u001b[1;33m)\u001b[0m \u001b[1;32mand\u001b[0m \u001b[1;32mnot\u001b[0m \u001b[0mallow_nan\u001b[0m\u001b[1;33m:\u001b[0m\u001b[1;33m\u001b[0m\u001b[1;33m\u001b[0m\u001b[0m\n",
      "\u001b[1;31mValueError\u001b[0m: Input contains NaN, infinity or a value too large for dtype('float32')."
     ]
    }
   ],
   "source": [
    "#training Loop\n",
    "\n",
    "import torch.optim as optim\n",
    "import torch\n",
    "from sklearn.metrics import mean_squared_error\n",
    "\n",
    "max_epochs = 100\n",
    "input_size = train_data_tensor.shape[1]\n",
    "model = FirstNet(input_size)\n",
    "# Define a Loss function and optimizer\n",
    "criterion = nn.MSELoss(reduction='mean')\n",
    "optimizer = optim.SGD(model.parameters(), lr=0.001, momentum=0.9)\n",
    "\n",
    "# Train the network\n",
    "for epoch in range(max_epochs):\n",
    "    running_loss = 0.0\n",
    "    optimizer.zero_grad()\n",
    "    outputs = model(train_data_tensor)\n",
    "    loss = criterion(outputs, train_targets)\n",
    "    loss.backward()\n",
    "    optimizer.step()\n",
    "    running_loss += loss.item()\n",
    "    if epoch%10 ==0:\n",
    "        print(str(epoch)+\"/\"+str(max_epochs)+\" loss : \", running_loss)\n",
    "        running_loss = 0.\n",
    "print('Finished Training')\n",
    "\n",
    "correct = 0\n",
    "total = 0\n",
    "with torch.no_grad():\n",
    "    predicted = model(val_data_tensor)\n",
    "    score = mean_squared_error(predicted, val_targets)\n",
    "\n",
    "print('MSE of the network on the 1000 data config: ', score)"
   ]
  },
  {
   "cell_type": "code",
   "execution_count": 142,
   "metadata": {},
   "outputs": [
    {
     "name": "stdout",
     "output_type": "stream",
     "text": [
      "Config example: {'batch_size': 71, 'max_dropout': 0.025926231827891333, 'max_units': 293, 'num_layers': 3, 'learning_rate': 0.0018243300267253295, 'momentum': 0.21325193168301043, 'weight_decay': 0.020472816917443872}\n"
     ]
    }
   ],
   "source": [
    "# Config\n",
    "print(\"Config example:\", train_data[0][\"config\"])"
   ]
  },
  {
   "cell_type": "code",
   "execution_count": 21,
   "metadata": {},
   "outputs": [
    {
     "data": {
      "text/plain": [
       "[<matplotlib.lines.Line2D at 0x1d080c4eec8>]"
      ]
     },
     "execution_count": 21,
     "metadata": {},
     "output_type": "execute_result"
    },
    {
     "data": {
      "image/png": "[encoded data removed]",
      "text/plain": [
       "<Figure size 432x288 with 1 Axes>"
      ]
     },
     "metadata": {
      "needs_background": "light"
     },
     "output_type": "display_data"
    }
   ],
   "source": [
    "# Learning curve\n",
    "plt.plot(train_data[10][\"Train/val_accuracy\"])"
   ]
  },
  {
   "cell_type": "code",
   "execution_count": 22,
   "metadata": {},
   "outputs": [
    {
     "data": {
      "text/plain": [
       "[<matplotlib.lines.Line2D at 0x1d080f1dc48>]"
      ]
     },
     "execution_count": 22,
     "metadata": {},
     "output_type": "execute_result"
    },
    {
     "data": {
      "image/png": "[encoded data removed]",
      "text/plain": [
       "<Figure size 432x288 with 1 Axes>"
      ]
     },
     "metadata": {
      "needs_background": "light"
     },
     "output_type": "display_data"
    }
   ],
   "source": [
    "# Gradient statistics\n",
    "plt.plot(train_data[10][\"Train/layer_wise_gradient_mean_layer_0\"])"
   ]
  },
  {
   "cell_type": "markdown",
   "metadata": {},
   "source": [
    "## A simple baseline"
   ]
  },
  {
   "cell_type": "code",
   "execution_count": 30,
   "metadata": {},
   "outputs": [],
   "source": [
    "class SimpleLearningCurvePredictor():\n",
    "    \"\"\"A learning curve predictor that predicts the last observed epoch of the validation accuracy as final performance\"\"\"\n",
    "    \n",
    "    def __init__(self):\n",
    "        pass\n",
    "        \n",
    "    def fit(self, X, y):\n",
    "        pass\n",
    "    \n",
    "    def predict(self, X):\n",
    "        predictions = []\n",
    "        for datapoint in X:\n",
    "            predictions.append(datapoint[\"Train/val_accuracy\"][-1])\n",
    "        return predictions\n",
    "    \n",
    "def score(y_true, y_pred):\n",
    "    return mean_squared_error(y_true, y_pred)"
   ]
  },
  {
   "cell_type": "code",
   "execution_count": 31,
   "metadata": {},
   "outputs": [
    {
     "name": "stdout",
     "output_type": "stream",
     "text": [
      "Score on validation set: 31.921338670622784\n"
     ]
    }
   ],
   "source": [
    "# Training & tuning\n",
    "predictor = SimpleLearningCurvePredictor()\n",
    "predictor.fit(train_data, train_targets)\n",
    "preds = predictor.predict(val_data)\n",
    "mse = score(val_targets, preds)\n",
    "print(\"Score on validation set:\", mse)"
   ]
  },
  {
   "cell_type": "code",
   "execution_count": 32,
   "metadata": {},
   "outputs": [
    {
     "name": "stdout",
     "output_type": "stream",
     "text": [
      "Final test score: 24.199496266785523\n"
     ]
    }
   ],
   "source": [
    "# Final evaluation (after tuning)\n",
    "final_preds = predictor.predict(test_data)\n",
    "final_score = score(test_targets, final_preds)\n",
    "print(\"Final test score:\", final_score)"
   ]
  },
  {
   "cell_type": "code",
   "execution_count": null,
   "metadata": {},
   "outputs": [],
   "source": []
  }
 ],
 "metadata": {
  "kernelspec": {
   "display_name": "Python 3",
   "language": "python",
   "name": "python3"
  },
  "language_info": {
   "codemirror_mode": {
    "name": "ipython",
    "version": 3
   },
   "file_extension": ".py",
   "mimetype": "text/x-python",
   "name": "python",
   "nbconvert_exporter": "python",
   "pygments_lexer": "ipython3",
   "version": "3.7.4"
  }
 },
 "nbformat": 4,
 "nbformat_minor": 2
}
