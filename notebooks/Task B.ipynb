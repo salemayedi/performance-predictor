{
 "cells": [
  {
   "cell_type": "markdown",
   "metadata": {},
   "source": [
    "# Task B: Meta-Learning Perfomance Prediction\n",
    "\n",
    "In this task, you will use information on training parameters and metadata on multiple OpenML dataset to train a performance predictor that performs well even for unseen datasets. You are provided with config parameters and metafeatures for six datasets. The datasets are split into training datasets and test datasets and you should only train on the training datasets.\n",
    "\n",
    "For questions, you can contact zimmerl@informatik.uni-freiburg.\n",
    "\n",
    "__Note: Please use the dataloading and splits you are provided with in this notebook.__"
   ]
  },
  {
   "cell_type": "markdown",
   "metadata": {},
   "source": [
    "## Specifications:\n",
    "\n",
    "* Data: six_datasets_lw.json\n",
    "* Number of datasets: 6\n",
    "* Training datasets: higgs, vehicle, adult, volkert\n",
    "* Test datasets: Fashion-MNIST, jasmine\n",
    "* Number of configurations: 2000\n",
    "* Available data: architecture parameters and hyperparameters, metafeatures \n",
    "* Target: final validation accuracy\n",
    "* Evaluation metric: MSE"
   ]
  },
  {
   "cell_type": "markdown",
   "metadata": {},
   "source": [
    "## Importing and splitting data\n",
    "\n",
    "Note: There are 51 steps logged, 50 epochs plus the 0th epoch, prior to any weight updates."
   ]
  },
  {
   "cell_type": "code",
   "execution_count": 1,
   "metadata": {},
   "outputs": [],
   "source": [
    "%%capture\n",
    "%cd ..\n",
    "import numpy as np\n",
    "import json\n",
    "from sklearn.model_selection import train_test_split\n",
    "from sklearn.metrics import mean_squared_error\n",
    "import matplotlib.pyplot as plt\n",
    "\n",
    "from api import Benchmark"
   ]
  },
  {
   "cell_type": "code",
   "execution_count": 2,
   "metadata": {},
   "outputs": [
    {
     "name": "stdout",
     "output_type": "stream",
     "text": [
      "==> Loading data...\n",
      "==> No cached data found or cache set to False.\n",
      "==> Reading json data...\n",
      "==> Done.\n"
     ]
    }
   ],
   "source": [
    "bench_dir = \"cached/six_datasets_lw.json\"\n",
    "bench = Benchmark(bench_dir, cache=False)"
   ]
  },
  {
   "cell_type": "code",
   "execution_count": 3,
   "metadata": {},
   "outputs": [],
   "source": [
    "with open(\"cached/metafeatures.json\", \"r\") as f:\n",
    "    metafeatures = json.load(f)"
   ]
  },
  {
   "cell_type": "code",
   "execution_count": 4,
   "metadata": {},
   "outputs": [
    {
     "name": "stdout",
     "output_type": "stream",
     "text": [
      "['Fashion-MNIST', 'adult', 'higgs', 'jasmine', 'vehicle', 'volkert']\n"
     ]
    }
   ],
   "source": [
    "# Dataset split\n",
    "dataset_names = bench.get_dataset_names()\n",
    "print(dataset_names)\n",
    "\n",
    "train_datasets = ['adult', 'higgs', 'vehicle', 'volkert']\n",
    "test_datasets = ['Fashion-MNIST', 'jasmine']"
   ]
  },
  {
   "cell_type": "code",
   "execution_count": 5,
   "metadata": {},
   "outputs": [
    {
     "name": "stdout",
     "output_type": "stream",
     "text": [
      "X_train: (6000,)\n",
      "X_test: (4000,)\n",
      "X_val: (2000,)\n"
     ]
    }
   ],
   "source": [
    "# Prepare data\n",
    "def read_data(datasets):\n",
    "    n_configs = bench.get_number_of_configs(datasets[0])\n",
    "    data = [bench.query(dataset_name=d, tag=\"Train/val_accuracy\", config_id=ind) for d in datasets for ind in range(n_configs)]\n",
    "    configs = [bench.query(dataset_name=d, tag=\"config\", config_id=ind) for d in datasets for ind in range(n_configs)]\n",
    "    dataset_names = [d for d in datasets for ind in range(n_configs)]\n",
    "    \n",
    "    y = np.array([curve[-1] for curve in data])\n",
    "    return np.array(configs), y, np.array(dataset_names)\n",
    "\n",
    "class TrainValSplitter():\n",
    "    \"\"\"Splits 25 % data as a validation split.\"\"\"\n",
    "    \n",
    "    def __init__(self, dataset_names):\n",
    "        self.ind_train, self.ind_val = train_test_split(np.arange(len(X)), test_size=0.25, stratify=dataset_names)\n",
    "        \n",
    "    def split(self, a):\n",
    "        return a[self.ind_train], a[self.ind_val]\n",
    "\n",
    "X, y, dataset_names = read_data(train_datasets)\n",
    "X_test, y_test, dataset_names_test = read_data(test_datasets)\n",
    "\n",
    "tv_splitter = TrainValSplitter(dataset_names=dataset_names)\n",
    "\n",
    "X_train, X_val = tv_splitter.split(X)\n",
    "y_train, y_val = tv_splitter.split(y)\n",
    "dataset_names_train, dataset_names_val = tv_splitter.split(dataset_names)\n",
    "\n",
    "print(\"X_train:\", X_train.shape)\n",
    "print(\"X_test:\", X_test.shape)\n",
    "print(\"X_val:\", X_val.shape)"
   ]
  },
  {
   "cell_type": "markdown",
   "metadata": {},
   "source": [
    "The data contains the configuration.\n",
    "\n",
    "__Note__: Not all parameters vary across different configurations. The varying parameters are batch_size, max_dropout, max_units, num_layers, learning_rate, momentum, weight_decay"
   ]
  },
  {
   "cell_type": "code",
   "execution_count": 6,
   "metadata": {},
   "outputs": [
    {
     "name": "stdout",
     "output_type": "stream",
     "text": [
      "Config example:\n",
      "{'batch_size': 99, 'imputation_strategy': 'mean', 'learning_rate_scheduler': 'cosine_annealing', 'loss': 'cross_entropy_weighted', 'network': 'shapedmlpnet', 'max_dropout': 0.7970306455890422, 'normalization_strategy': 'standardize', 'optimizer': 'sgd', 'cosine_annealing_T_max': 50, 'cosine_annealing_eta_min': 1e-08, 'activation': 'relu', 'max_units': 68, 'mlp_shape': 'funnel', 'num_layers': 4, 'learning_rate': 0.0019122082568439622, 'momentum': 0.20798731345013868, 'weight_decay': 0.03236170214482822}\n",
      "\n",
      "Meta-feature 'Number of classes': 4.0\n"
     ]
    }
   ],
   "source": [
    "# Take a look at one datapoint\n",
    "datapoint_id = 1\n",
    "config = X_train[datapoint_id]\n",
    "dataset_name = dataset_names_train[datapoint_id]\n",
    "example_metafeature = metafeatures[dataset_name][\"NumberOfClasses\"]\n",
    "\n",
    "print(\"Config example:\", X_train[0], sep=\"\\n\")\n",
    "print(\"\\nMeta-feature 'Number of classes':\", example_metafeature)"
   ]
  },
  {
   "cell_type": "code",
   "execution_count": 7,
   "metadata": {
    "scrolled": true
   },
   "outputs": [
    {
     "name": "stdout",
     "output_type": "stream",
     "text": [
      "AutoCorrelation 0.2579881656804734\n",
      "CfsSubsetEval_DecisionStumpAUC 0.8287300415025641\n",
      "CfsSubsetEval_DecisionStumpErrRate 0.3191489361702128\n",
      "CfsSubsetEval_DecisionStumpKappa 0.5743705558785386\n",
      "CfsSubsetEval_NaiveBayesAUC 0.8287300415025641\n"
     ]
    }
   ],
   "source": [
    "# Look at some metafeatures\n",
    "iterator = iter(metafeatures[dataset_name].items())\n",
    "for ind in range(5):\n",
    "    feature, value = iterator.__next__()\n",
    "    print(feature, value)"
   ]
  },
  {
   "cell_type": "markdown",
   "metadata": {},
   "source": [
    "## Training and scoring"
   ]
  },
  {
   "cell_type": "code",
   "execution_count": 8,
   "metadata": {},
   "outputs": [],
   "source": [
    "class ConstantPerformancePredictor():\n",
    "    \"\"\"A predictor that predicts the mean of the performances seen on the training data.\"\"\"\n",
    "    \n",
    "    def __init__(self):\n",
    "        self.constant_prediction = 0\n",
    "        \n",
    "    def fit(self, X, y, dataset_names, metafeatures):\n",
    "        self.constant_prediction = np.mean(y)\n",
    "    \n",
    "    def predict(self, X):\n",
    "        predictions = [self.constant_prediction] * len(X)\n",
    "        return predictions\n",
    "    \n",
    "def score(y_true, y_pred):\n",
    "    return mean_squared_error(y_true, y_pred)"
   ]
  },
  {
   "cell_type": "code",
   "execution_count": 9,
   "metadata": {},
   "outputs": [
    {
     "name": "stdout",
     "output_type": "stream",
     "text": [
      "283.5325483378039\n"
     ]
    }
   ],
   "source": [
    "# Train and validate\n",
    "predictor = ConstantPerformancePredictor()\n",
    "predictor.fit(X_train, y_train, dataset_names_train, metafeatures)\n",
    "preds = predictor.predict(X_val)\n",
    "mse = score(y_val, preds)\n",
    "print(mse)"
   ]
  },
  {
   "cell_type": "code",
   "execution_count": 10,
   "metadata": {},
   "outputs": [
    {
     "name": "stdout",
     "output_type": "stream",
     "text": [
      "Final test score: 477.5415315131301\n"
     ]
    }
   ],
   "source": [
    "# Final evaluation\n",
    "final_preds = predictor.predict(X_test)\n",
    "final_score = score(y_test, final_preds)\n",
    "print(\"Final test score:\", final_score)"
   ]
  }
 ],
 "metadata": {
  "kernelspec": {
   "display_name": "Python 3",
   "language": "python",
   "name": "python3"
  },
  "language_info": {
   "codemirror_mode": {
    "name": "ipython",
    "version": 3
   },
   "file_extension": ".py",
   "mimetype": "text/x-python",
   "name": "python",
   "nbconvert_exporter": "python",
   "pygments_lexer": "ipython3",
   "version": "3.6.0"
  }
 },
 "nbformat": 4,
 "nbformat_minor": 2
}
